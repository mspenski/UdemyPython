{
 "cells": [
  {
   "cell_type": "code",
   "execution_count": null,
   "metadata": {},
   "outputs": [],
   "source": [
    "'''\n",
    "PACKAGES\n",
    "\n",
    "PyPi is a repository for third party python packages, similar to npm in node\n",
    "\n",
    "We can use 'pip install' in the command line to quickly install packages directly from the PyPi library\n",
    "\n",
    "MODULES\n",
    "\n",
    "modules are just .py scripts that you call in another .py script\n",
    "\n",
    "packages are a collection of modules\n",
    "\n",
    "'''"
   ]
  }
 ],
 "metadata": {
  "kernelspec": {
   "display_name": "Python 3",
   "language": "python",
   "name": "python3"
  },
  "language_info": {
   "codemirror_mode": {
    "name": "ipython",
    "version": 3
   },
   "file_extension": ".py",
   "mimetype": "text/x-python",
   "name": "python",
   "nbconvert_exporter": "python",
   "pygments_lexer": "ipython3",
   "version": "3.7.1"
  }
 },
 "nbformat": 4,
 "nbformat_minor": 2
}
